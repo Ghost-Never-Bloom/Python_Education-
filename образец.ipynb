{
 "cells": [
  {
   "cell_type": "markdown",
   "metadata": {},
   "source": [
    "###         Контрольная работа по дисциплине\n",
    "####         \"Пакеты прикладных программ\".\n",
    "####         Сидаде М. группа УМР13"
   ]
  },
  {
   "cell_type": "code",
   "execution_count": 1,
   "metadata": {},
   "outputs": [],
   "source": [
    "from sympy import *\n",
    "import numpy as np\n",
    "init_printing(use_latex=True)"
   ]
  },
  {
   "cell_type": "markdown",
   "metadata": {},
   "source": [
    "###  1. Вычислить предел: $\\lim\\limits_{x\\to\\infty}(1+\\frac{5}{x})^{3x}$"
   ]
  },
  {
   "cell_type": "code",
   "execution_count": 2,
   "metadata": {},
   "outputs": [
    {
     "data": {
      "image/png": "[encoded data removed]",
      "text/latex": [
       "$$\\lim_{x \\to \\infty} \\left(1 + \\frac{5}{x}\\right)^{3 x} = e^{15}$$"
      ],
      "text/plain": [
       "           3⋅x      \n",
       "    ⎛    5⎞       15\n",
       "lim ⎜1 + ─⎟    = ℯ  \n",
       "x─→∞⎝    x⎠         "
      ]
     },
     "execution_count": 2,
     "metadata": {},
     "output_type": "execute_result"
    }
   ],
   "source": [
    "x = symbols('x')\n",
    "y = Limit((1 + 5 / x) ** (3 * x), x, oo)\n",
    "Eq(y, y.doit())"
   ]
  },
  {
   "cell_type": "markdown",
   "metadata": {},
   "source": [
    "### 2. Вычислить..."
   ]
  },
  {
   "cell_type": "markdown",
   "metadata": {},
   "source": [
    "**Найти периметр треугольника**"
   ]
  },
  {
   "cell_type": "code",
   "execution_count": 8,
   "metadata": {},
   "outputs": [
    {
     "name": "stdout",
     "output_type": "stream",
     "text": [
      "A B C= 3 4 5\n",
      "Периметр=  12\n"
     ]
    }
   ],
   "source": [
    "A, B, C = map(int,input('A B C= ').split())\n",
    "if A + B > C and A + C > B and B + C > A:\n",
    "    p = A + B + C\n",
    "    print('Периметр= ',p)\n",
    "else:\n",
    "    print('Такой треугольник не существует!')"
   ]
  },
  {
   "cell_type": "code",
   "execution_count": null,
   "metadata": {},
   "outputs": [],
   "source": []
  }
 ],
 "metadata": {
  "kernelspec": {
   "display_name": "Python 3",
   "language": "python",
   "name": "python3"
  },
  "language_info": {
   "codemirror_mode": {
    "name": "ipython",
    "version": 3
   },
   "file_extension": ".py",
   "mimetype": "text/x-python",
   "name": "python",
   "nbconvert_exporter": "python",
   "pygments_lexer": "ipython3",
   "version": "3.7.3"
  }
 },
 "nbformat": 4,
 "nbformat_minor": 2
}
